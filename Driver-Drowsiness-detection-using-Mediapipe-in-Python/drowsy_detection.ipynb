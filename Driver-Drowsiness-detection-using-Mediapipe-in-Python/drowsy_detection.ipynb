{
 "cells": [
  {
   "cell_type": "markdown",
   "metadata": {},
   "source": [
    "# interpretation of drowsy detection"
   ]
  },
  {
   "cell_type": "markdown",
   "metadata": {},
   "source": [
    "process方法实现了疲劳检测的核心算法\n",
    "1. 处理输入帧：通过mp处理当前的视频帧，提取面部的关键点\n",
    "2. 计算EAR：计算眼睛的EAR指标以检测疲劳状态\n",
    "3. 管理疲劳时间：累计疲劳时间，并在时间超过设定值的时候播放警报\n",
    "4. 动态更新状态：根据EAR指标更新状态和界面信息\n",
    "5. 可视化信息：在视频帧上绘制与检测相关的文本和眼睛关键点"
   ]
  },
  {
   "cell_type": "markdown",
   "metadata": {},
   "source": []
  }
 ],
 "metadata": {
  "language_info": {
   "name": "python"
  }
 },
 "nbformat": 4,
 "nbformat_minor": 2
}
