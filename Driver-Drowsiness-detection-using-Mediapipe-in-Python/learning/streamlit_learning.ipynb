{
 "cells": [
  {
   "cell_type": "markdown",
   "metadata": {},
   "source": [
    "# 主要特点"
   ]
  },
  {
   "cell_type": "markdown",
   "metadata": {},
   "source": [
    "- 用于快速构建数据应用的框架，适合数据科学家和机器学习工程师，使得它在几行代码中创建交互式应用变得非常简单\n",
    "- streamlit和gradio给出了答案，这两个框架就是为了给没有前端经验的深度学习工程师一个好用的框架工具，能够在极短时间内快速构建一个web应用\n",
    "- 一句话：python的可视化库，当想给程序添加个web界面，而又不会或者不想用前端技术时候，使用它"
   ]
  },
  {
   "cell_type": "markdown",
   "metadata": {},
   "source": [
    "## environment and install"
   ]
  },
  {
   "cell_type": "code",
   "execution_count": null,
   "metadata": {},
   "outputs": [],
   "source": [
    "# 创建虚拟环境\n",
    "!conda create -n streamlit python==3.11"
   ]
  },
  {
   "cell_type": "code",
   "execution_count": null,
   "metadata": {},
   "outputs": [],
   "source": [
    "# 下载安装streamlit\n",
    "%pip install streamlit"
   ]
  },
  {
   "cell_type": "markdown",
   "metadata": {},
   "source": [
    "## quick start"
   ]
  },
  {
   "cell_type": "markdown",
   "metadata": {},
   "source": [
    "see the details to the quick_start.py\n",
    "\n"
   ]
  },
  {
   "cell_type": "markdown",
   "metadata": {},
   "source": [
    "## result"
   ]
  },
  {
   "cell_type": "markdown",
   "metadata": {},
   "source": [
    "run the code in the terminal:  \n",
    "$streamlit run quick_start_streamlit.py"
   ]
  },
  {
   "cell_type": "markdown",
   "metadata": {},
   "source": [
    "return:  \n",
    "(streamlit) PS F:\\streamlit> streamlit run app.py\n",
    "\n",
    "  You can now view your Streamlit app in your browser.\n",
    "\n",
    "  Local URL: http://localhost:8501\n",
    "  Network URL: http://192.2.23.231:8501"
   ]
  },
  {
   "cell_type": "markdown",
   "metadata": {},
   "source": [
    "## running logic"
   ]
  },
  {
   "cell_type": "markdown",
   "metadata": {},
   "source": [
    "when running streamlit run app.py, the main program is not app.py but a streamlit startup script that  \n",
    "reads pages(HTML) and corresponding logic(Javascript) from it.  \n",
    "A simplified model is as follows: "
   ]
  },
  {
   "cell_type": "markdown",
   "metadata": {},
   "source": [
    "![running_logic](./running_logic.jpg)"
   ]
  }
 ],
 "metadata": {
  "kernelspec": {
   "display_name": "DDD2",
   "language": "python",
   "name": "python3"
  },
  "language_info": {
   "name": "python",
   "version": "3.11.10"
  }
 },
 "nbformat": 4,
 "nbformat_minor": 2
}
